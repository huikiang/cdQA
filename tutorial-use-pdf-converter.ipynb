{
 "cells": [
  {
   "cell_type": "markdown",
   "metadata": {
    "colab_type": "text",
    "id": "wx0Sg_fRM5Kh"
   },
   "source": [
    "# Notebook [2]: Using the PDF converter"
   ]
  },
  {
   "cell_type": "markdown",
   "metadata": {
    "colab_type": "text",
    "id": "Y5PrFhdQMeBF"
   },
   "source": [
    "\n",
    "\n",
    "This notebook shows how to use the PDF converter to create an input dataframe for the cdQA pipeline from a directory of PDF files.\n"
   ]
  },
  {
   "cell_type": "markdown",
   "metadata": {
    "colab_type": "text",
    "id": "f58-FXmbMfjz"
   },
   "source": [
    "***Note:*** *To run this notebook you will need to have access to GPU. If you are using colab, you will need to install `cdQA` by executing `!pip install cdqa` in a cell.* "
   ]
  },
  {
   "cell_type": "code",
   "execution_count": 1,
   "metadata": {
    "ExecuteTime": {
     "end_time": "2019-07-20T13:41:40.814076Z",
     "start_time": "2019-07-20T13:41:39.440654Z"
    },
    "colab": {
     "base_uri": "https://localhost:8080/",
     "height": 76
    },
    "colab_type": "code",
    "id": "7UMrjUJ2EGmu",
    "outputId": "97fb0bd8-8a73-4cd0-cd43-eb326067a03d"
   },
   "outputs": [
    {
     "name": "stderr",
     "output_type": "stream",
     "text": [
      "c:\\users\\hui kiang\\appdata\\local\\programs\\python\\python37\\lib\\site-packages\\tqdm\\autonotebook\\__init__.py:18: TqdmExperimentalWarning: Using `tqdm.autonotebook.tqdm` in notebook mode. Use `tqdm.tqdm` instead to force console mode (e.g. in jupyter console)\n",
      "  \" (e.g. in jupyter console)\", TqdmExperimentalWarning)\n"
     ]
    }
   ],
   "source": [
    "import os\n",
    "import pandas as pd\n",
    "from ast import literal_eval\n",
    "\n",
    "from cdqa.utils.converters import pdf_converter\n",
    "from cdqa.utils.filters import filter_paragraphs\n",
    "from cdqa.pipeline import QAPipeline\n",
    "from cdqa.utils.download import download_model"
   ]
  },
  {
   "cell_type": "markdown",
   "metadata": {
    "colab_type": "text",
    "id": "V1fV_dquOrx0"
   },
   "source": [
    "### Download pre-trained reader model and PDF files"
   ]
  },
  {
   "cell_type": "code",
   "execution_count": 2,
   "metadata": {
    "ExecuteTime": {
     "end_time": "2019-07-20T13:42:54.139892Z",
     "start_time": "2019-07-20T13:41:41.869993Z"
    }
   },
   "outputs": [
    {
     "name": "stdout",
     "output_type": "stream",
     "text": [
      "\n",
      "Downloading trained model...\n",
      "bert_qa.joblib already downloaded\n"
     ]
    }
   ],
   "source": [
    "# Download model\n",
    "download_model(model='bert-squad_1.1', dir='./models')"
   ]
  },
  {
   "cell_type": "code",
   "execution_count": 3,
   "metadata": {
    "ExecuteTime": {
     "end_time": "2019-07-20T13:43:21.153039Z",
     "start_time": "2019-07-20T13:43:20.228398Z"
    },
    "colab": {
     "base_uri": "https://localhost:8080/",
     "height": 94
    },
    "colab_type": "code",
    "id": "yhg8jFjbERzv",
    "outputId": "3c5414b9-979b-4342-c76d-ab3a05520d3e"
   },
   "outputs": [
    {
     "name": "stdout",
     "output_type": "stream",
     "text": [
      "\n",
      "Downloading PDF files...\n",
      "100% [............................................................................] 776686 / 776686"
     ]
    }
   ],
   "source": [
    "# Download pdf files from BNP Paribas public news\n",
    "def download_pdf():\n",
    "    import os\n",
    "    import wget\n",
    "    directory = './data/pdf/'\n",
    "    models_url = [\n",
    "      'https://invest.bnpparibas.com/documents/1q19-pr-12648',\n",
    "      'https://invest.bnpparibas.com/documents/4q18-pr-18000',\n",
    "      'https://invest.bnpparibas.com/documents/4q17-pr'\n",
    "    ]\n",
    "\n",
    "    print('\\nDownloading PDF files...')\n",
    "\n",
    "    if not os.path.exists(directory):\n",
    "        os.makedirs(directory)\n",
    "    for url in models_url:\n",
    "        wget.download(url=url, out=directory)\n",
    "\n",
    "download_pdf()"
   ]
  },
  {
   "cell_type": "markdown",
   "metadata": {
    "colab_type": "text",
    "id": "QqPK6BV2O-RO"
   },
   "source": [
    "### Convert the PDF files into a DataFrame for cdQA pipeline"
   ]
  },
  {
   "cell_type": "code",
   "execution_count": 4,
   "metadata": {
    "ExecuteTime": {
     "end_time": "2019-07-20T13:44:01.821890Z",
     "start_time": "2019-07-20T13:43:22.685954Z"
    },
    "colab": {
     "base_uri": "https://localhost:8080/",
     "height": 143
    },
    "colab_type": "code",
    "id": "czafu4-aEXXm",
    "outputId": "d1c13305-b4a3-4dff-f0ec-6bf277ca3b2a"
   },
   "outputs": [
    {
     "data": {
      "text/html": [
       "<div>\n",
       "<style scoped>\n",
       "    .dataframe tbody tr th:only-of-type {\n",
       "        vertical-align: middle;\n",
       "    }\n",
       "\n",
       "    .dataframe tbody tr th {\n",
       "        vertical-align: top;\n",
       "    }\n",
       "\n",
       "    .dataframe thead th {\n",
       "        text-align: right;\n",
       "    }\n",
       "</style>\n",
       "<table border=\"1\" class=\"dataframe\">\n",
       "  <thead>\n",
       "    <tr style=\"text-align: right;\">\n",
       "      <th></th>\n",
       "      <th>title</th>\n",
       "      <th>paragraphs</th>\n",
       "    </tr>\n",
       "  </thead>\n",
       "  <tbody>\n",
       "    <tr>\n",
       "      <th>0</th>\n",
       "      <td>singtel-annual-report-2019</td>\n",
       "      <td>[01 Singtel Annual Report 2019 , Annual Report...</td>\n",
       "    </tr>\n",
       "    <tr>\n",
       "      <th>1</th>\n",
       "      <td>starhub-annual-report-2018</td>\n",
       "      <td>[STARHUB LTDAnnual Report 2018, DARET O  E V O...</td>\n",
       "    </tr>\n",
       "  </tbody>\n",
       "</table>\n",
       "</div>"
      ],
      "text/plain": [
       "                        title  \\\n",
       "0  singtel-annual-report-2019   \n",
       "1  starhub-annual-report-2018   \n",
       "\n",
       "                                          paragraphs  \n",
       "0  [01 Singtel Annual Report 2019 , Annual Report...  \n",
       "1  [STARHUB LTDAnnual Report 2018, DARET O  E V O...  "
      ]
     },
     "execution_count": 4,
     "metadata": {},
     "output_type": "execute_result"
    }
   ],
   "source": [
    "df = pdf_converter(directory_path='./data/pdf/')\n",
    "df.head()"
   ]
  },
  {
   "cell_type": "code",
   "execution_count": 5,
   "metadata": {},
   "outputs": [
    {
     "data": {
      "text/html": [
       "<div>\n",
       "<style scoped>\n",
       "    .dataframe tbody tr th:only-of-type {\n",
       "        vertical-align: middle;\n",
       "    }\n",
       "\n",
       "    .dataframe tbody tr th {\n",
       "        vertical-align: top;\n",
       "    }\n",
       "\n",
       "    .dataframe thead th {\n",
       "        text-align: right;\n",
       "    }\n",
       "</style>\n",
       "<table border=\"1\" class=\"dataframe\">\n",
       "  <thead>\n",
       "    <tr style=\"text-align: right;\">\n",
       "      <th></th>\n",
       "      <th>title</th>\n",
       "      <th>paragraphs</th>\n",
       "    </tr>\n",
       "  </thead>\n",
       "  <tbody>\n",
       "    <tr>\n",
       "      <th>0</th>\n",
       "      <td>singtel-annual-report-2019</td>\n",
       "      <td>[Much has changed over Singtel’s 140-year hist...</td>\n",
       "    </tr>\n",
       "    <tr>\n",
       "      <th>1</th>\n",
       "      <td>starhub-annual-report-2018</td>\n",
       "      <td>[We are pursuing a more aggressive transformat...</td>\n",
       "    </tr>\n",
       "  </tbody>\n",
       "</table>\n",
       "</div>"
      ],
      "text/plain": [
       "                        title  \\\n",
       "0  singtel-annual-report-2019   \n",
       "1  starhub-annual-report-2018   \n",
       "\n",
       "                                          paragraphs  \n",
       "0  [Much has changed over Singtel’s 140-year hist...  \n",
       "1  [We are pursuing a more aggressive transformat...  "
      ]
     },
     "execution_count": 5,
     "metadata": {},
     "output_type": "execute_result"
    }
   ],
   "source": [
    "from cdqa.utils.filters import filter_paragraphs\n",
    "\n",
    "df = filter_paragraphs(df)\n",
    "df.head()"
   ]
  },
  {
   "cell_type": "code",
   "execution_count": 5,
   "metadata": {},
   "outputs": [],
   "source": [
    "df.to_csv('pdf_filtered_para.csv')"
   ]
  },
  {
   "cell_type": "markdown",
   "metadata": {
    "colab_type": "text",
    "id": "FLZd4H_vPJuU"
   },
   "source": [
    "### Instantiate the cdQA pipeline from a pre-trained reader model"
   ]
  },
  {
   "cell_type": "code",
   "execution_count": 6,
   "metadata": {
    "ExecuteTime": {
     "end_time": "2019-07-20T13:44:46.283172Z",
     "start_time": "2019-07-20T13:44:45.317024Z"
    },
    "colab": {
     "base_uri": "https://localhost:8080/",
     "height": 211
    },
    "colab_type": "code",
    "id": "8OOqnkNyEaFe",
    "outputId": "1182284f-abf7-46dc-829c-09b2758e7bcd"
   },
   "outputs": [
    {
     "data": {
      "text/plain": [
       "QAPipeline(reader=BertQA(adam_epsilon=1e-08, bert_model='bert-base-uncased',\n",
       "                         do_lower_case=True, fp16=False,\n",
       "                         gradient_accumulation_steps=1, learning_rate=5e-05,\n",
       "                         local_rank=-1, loss_scale=0, max_answer_length=30,\n",
       "                         n_best_size=20, no_cuda=False,\n",
       "                         null_score_diff_threshold=0.0, num_train_epochs=3.0,\n",
       "                         output_dir=None, predict_batch_size=8, seed=42,\n",
       "                         server_ip='', server_po..._size=8,\n",
       "                         verbose_logging=False, version_2_with_negative=False,\n",
       "                         warmup_proportion=0.1, warmup_steps=0),\n",
       "           retrieve_by_doc=False,\n",
       "           retriever=BM25Retriever(b=0.75, floor=None, k1=2.0, lowercase=True,\n",
       "                                   max_df=1.0, min_df=2, ngram_range=(1, 2),\n",
       "                                   preprocessor=None, stop_words='english',\n",
       "                                   token_pattern='(?u)\\\\b\\\\w\\\\w+\\\\b',\n",
       "                                   tokenizer=None, top_n=20, verbose=False,\n",
       "                                   vocabulary=None))"
      ]
     },
     "execution_count": 6,
     "metadata": {},
     "output_type": "execute_result"
    }
   ],
   "source": [
    "cdqa_pipeline = QAPipeline(reader='./models/bert_qa.joblib', max_df=1.0)\n",
    "\n",
    "# Fit Retriever to documents\n",
    "cdqa_pipeline.fit_retriever(df=df)"
   ]
  },
  {
   "cell_type": "markdown",
   "metadata": {
    "colab_type": "text",
    "id": "40nBTa4UPrO2"
   },
   "source": [
    " ### Execute a query"
   ]
  },
  {
   "cell_type": "code",
   "execution_count": 8,
   "metadata": {
    "ExecuteTime": {
     "end_time": "2019-07-20T13:54:57.200016Z",
     "start_time": "2019-07-20T13:44:49.005187Z"
    },
    "colab": {
     "base_uri": "https://localhost:8080/",
     "height": 56
    },
    "colab_type": "code",
    "id": "POH2gjywEcNb",
    "outputId": "d454f0af-d64e-4d32-8da1-d1694a3e787d"
   },
   "outputs": [],
   "source": [
    "query_1 = 'Why did Singtel EBITDA declined?'\n",
    "prediction_1 = cdqa_pipeline.predict(query_1)"
   ]
  },
  {
   "cell_type": "markdown",
   "metadata": {
    "colab_type": "text",
    "id": "PgdnYmW3P3d8"
   },
   "source": [
    "### Explore predictions"
   ]
  },
  {
   "cell_type": "code",
   "execution_count": null,
   "metadata": {
    "ExecuteTime": {
     "end_time": "2019-07-20T13:54:57.336337Z",
     "start_time": "2019-07-20T13:54:57.318676Z"
    },
    "colab": {
     "base_uri": "https://localhost:8080/",
     "height": 114
    },
    "colab_type": "code",
    "id": "ThCffJekEdiC",
    "outputId": "0ca8870f-aabc-4ef9-8fad-751974e70284"
   },
   "outputs": [],
   "source": [
    "print('query: {}'.format(query_1))\n",
    "print('answer: {}'.format(prediction_1[0]))\n",
    "print('title: {}'.format(prediction_1[1]))\n",
    "print('paragraph: {}'.format(prediction_1[2]))"
   ]
  },
  {
   "cell_type": "code",
   "execution_count": 11,
   "metadata": {},
   "outputs": [],
   "source": [
    "query_2 = \"What caused the associate's pre-tax contribution to decline in 2018?\"\n",
    "prediction_2 = cdqa_pipeline.predict(query_2)"
   ]
  },
  {
   "cell_type": "code",
   "execution_count": 12,
   "metadata": {},
   "outputs": [
    {
     "name": "stdout",
     "output_type": "stream",
     "text": [
      "query: What caused the associate's pre-tax contribution to decline in 2018?\n",
      "answer: higher depreciation charges and share of equity losses\n",
      "title: singtel-annual-report-2019\n",
      "paragraph: Globe delivered a solid performance with double-digit growth in EBITDA and earnings. Service revenue grew 6% driven by robust data growth in mobile and broadband. EBITDA rose 22% on strong revenue growth and lower selling expenses. Despite higher depreciation charges and share of equity losses from its associates, Globe’s post-tax ordinary contribution rose strongly by 39%. The share of Globe’s one-off gain in FY 2018 arose from the increase in fair value of its retained interest in its associate. With the absence of exceptional gain this year, overall post-tax contribution grew 24%.\n"
     ]
    }
   ],
   "source": [
    "print('query: {}'.format(query_2))\n",
    "print('answer: {}'.format(prediction_2[0]))\n",
    "print('title: {}'.format(prediction_2[1]))\n",
    "print('paragraph: {}'.format(prediction_2[2]))"
   ]
  },
  {
   "cell_type": "code",
   "execution_count": 15,
   "metadata": {},
   "outputs": [],
   "source": [
    "query_3 = 'Why did Singtel operating revenue grow?'\n",
    "prediction_3 = cdqa_pipeline.predict(query_3)"
   ]
  },
  {
   "cell_type": "code",
   "execution_count": 16,
   "metadata": {},
   "outputs": [
    {
     "name": "stdout",
     "output_type": "stream",
     "text": [
      "query: Why did Singtel operating revenue grow?\n",
      "answer: increases in ICT, digital services and equipment sales\n",
      "title: singtel-annual-report-2019\n",
      "paragraph: In constant currency terms, operating revenue grew 3.7% driven by increases in ICT, digital services and equipment sales. However, EBITDA was down  3.9% mainly due to lower legacy carriage services especially voice, and price erosion. With 6% depreciation in the Australian Dollar, operating revenue was stable while EBITDA declined 7.1%.\n"
     ]
    }
   ],
   "source": [
    "print('query: {}'.format(query_3))\n",
    "print('answer: {}'.format(prediction_3[0]))\n",
    "print('title: {}'.format(prediction_3[1]))\n",
    "print('paragraph: {}'.format(prediction_3[2]))"
   ]
  },
  {
   "cell_type": "code",
   "execution_count": 19,
   "metadata": {},
   "outputs": [
    {
     "name": "stdout",
     "output_type": "stream",
     "text": [
      "query: Why did Singtel operating revenue grow?\n",
      "answer: increases in ICT, digital services and equipment sales\n",
      "title: singtel-annual-report-2019\n",
      "paragraph: In constant currency terms, operating revenue grew 3.7% driven by increases in ICT, digital services and equipment sales. However, EBITDA was down  3.9% mainly due to lower legacy carriage services especially voice, and price erosion. With 6% depreciation in the Australian Dollar, operating revenue was stable while EBITDA declined 7.1%.\n"
     ]
    }
   ],
   "source": [
    "query_4 = 'Why did Singtel operating revenue increase?'\n",
    "prediction_4 = cdqa_pipeline.predict(query_4)\n",
    "\n",
    "print('query: {}'.format(query_3))\n",
    "print('answer: {}'.format(prediction_3[0]))\n",
    "print('title: {}'.format(prediction_3[1]))\n",
    "print('paragraph: {}'.format(prediction_3[2]))"
   ]
  },
  {
   "cell_type": "code",
   "execution_count": 21,
   "metadata": {},
   "outputs": [
    {
     "name": "stdout",
     "output_type": "stream",
     "text": [
      "query: Why did Singtel free cash flow grow?\n",
      "answer: from operating activities, including dividends from associates, less cash capital expenditure\n",
      "title: singtel-annual-report-2019\n",
      "paragraph: Notes:(1)  Based on Singapore Financial Reporting Standards (International). (2)  FY 2018 included the gain on disposal of economic interest in NetLink Trust of S$2.03 billion.(3)  Underlying net profit is defined as net profit before exceptional items. (4)  Average A$ rate for translation of Optus’ operating revenue.(5)  Free cash flow refers to cash flow from operating activities, including dividends from associates, less cash capital expenditure. (6)  Return on invested capital is defined as EBIT (post-tax) divided by average capital.\n"
     ]
    }
   ],
   "source": [
    "query_5 = 'Why did Singtel free cash flow grow?'\n",
    "prediction_5 = cdqa_pipeline.predict(query_5)\n",
    "\n",
    "print('query: {}'.format(query_5))\n",
    "print('answer: {}'.format(prediction_5[0]))\n",
    "print('title: {}'.format(prediction_5[1]))\n",
    "print('paragraph: {}'.format(prediction_5[2]))"
   ]
  },
  {
   "cell_type": "code",
   "execution_count": 22,
   "metadata": {},
   "outputs": [
    {
     "name": "stdout",
     "output_type": "stream",
     "text": [
      "query: How is Starhub EBITDA?\n",
      "answer: via (a) periodic analyst and media briefings throughout the year\n",
      "title: starhub-annual-report-2018\n",
      "paragraph: StarHub provides regular and timely information to the investment community regarding the Group’s performance, progress and prospects as well as major industry and corporate developments and other relevant information. StarHub solicits and considers the views of shareholders via (a) periodic analyst and media briefings throughout the year, (b) regular meetings between the CEO, the StarHub IR team and institutional investors through international road shows and conferences organised by major brokerage firms and (c) third-party perception studies on StarHub.\n"
     ]
    }
   ],
   "source": [
    "query_6 = 'How is Starhub EBITDA?'\n",
    "prediction_6 = cdqa_pipeline.predict(query_6)\n",
    "\n",
    "print('query: {}'.format(query_6))\n",
    "print('answer: {}'.format(prediction_6[0]))\n",
    "print('title: {}'.format(prediction_6[1]))\n",
    "print('paragraph: {}'.format(prediction_6[2]))"
   ]
  },
  {
   "cell_type": "code",
   "execution_count": 24,
   "metadata": {},
   "outputs": [
    {
     "name": "stdout",
     "output_type": "stream",
     "text": [
      "query: What is Starhub EBITDA Yoy?\n",
      "answer: Executive Resource and Compensation Committee\n",
      "title: starhub-annual-report-2018\n",
      "paragraph: The StarHub Share Plans 2014, the StarHub Share Plans 2004, the StarHub Share Option Plan 2004 and the StarHub Share Option Plan 2000 (collectively, “Plans”) are administered by the Company’s Executive Resource and Compensation Committee (“ERCC”) comprising five directors, namely Teo Ek Tor, Stephen Geoffrey Miller, Michelle Lee Guthrie, Lionel Yeo Hung Tong and Lim Ming Seong.\n"
     ]
    }
   ],
   "source": [
    "query_7 = 'What is Starhub EBITDA Yoy?'\n",
    "prediction_7 = cdqa_pipeline.predict(query_7)\n",
    "\n",
    "print('query: {}'.format(query_7))\n",
    "print('answer: {}'.format(prediction_7[0]))\n",
    "print('title: {}'.format(prediction_7[1]))\n",
    "print('paragraph: {}'.format(prediction_7[2]))"
   ]
  },
  {
   "cell_type": "code",
   "execution_count": null,
   "metadata": {},
   "outputs": [],
   "source": [
    "query_7 = 'What is Starhub EBITDA Yoy?'\n",
    "prediction_7 = cdqa_pipeline.predict(query_7)\n",
    "\n",
    "print('query: {}'.format(query_7))\n",
    "print('answer: {}'.format(prediction_7[0]))\n",
    "print('title: {}'.format(prediction_7[1]))\n",
    "print('paragraph: {}'.format(prediction_7[2]))"
   ]
  }
 ],
 "metadata": {
  "accelerator": "GPU",
  "colab": {
   "collapsed_sections": [],
   "name": "Untitled0.ipynb",
   "provenance": [],
   "version": "0.3.2"
  },
  "hide_input": false,
  "kernelspec": {
   "display_name": "Python 3",
   "language": "python",
   "name": "python3"
  },
  "language_info": {
   "codemirror_mode": {
    "name": "ipython",
    "version": 3
   },
   "file_extension": ".py",
   "mimetype": "text/x-python",
   "name": "python",
   "nbconvert_exporter": "python",
   "pygments_lexer": "ipython3",
   "version": "3.7.4"
  },
  "toc": {
   "base_numbering": 1,
   "nav_menu": {},
   "number_sections": true,
   "sideBar": true,
   "skip_h1_title": false,
   "title_cell": "Table of Contents",
   "title_sidebar": "Contents",
   "toc_cell": false,
   "toc_position": {},
   "toc_section_display": true,
   "toc_window_display": false
  },
  "varInspector": {
   "cols": {
    "lenName": 16,
    "lenType": 16,
    "lenVar": 40
   },
   "kernels_config": {
    "python": {
     "delete_cmd_postfix": "",
     "delete_cmd_prefix": "del ",
     "library": "var_list.py",
     "varRefreshCmd": "print(var_dic_list())"
    },
    "r": {
     "delete_cmd_postfix": ") ",
     "delete_cmd_prefix": "rm(",
     "library": "var_list.r",
     "varRefreshCmd": "cat(var_dic_list()) "
    }
   },
   "types_to_exclude": [
    "module",
    "function",
    "builtin_function_or_method",
    "instance",
    "_Feature"
   ],
   "window_display": false
  }
 },
 "nbformat": 4,
 "nbformat_minor": 1
}
